{
 "cells": [
  {
   "cell_type": "markdown",
   "metadata": {},
   "source": [
    "# Constructing a Mapper graph using T0 scores for GMM\n",
    "\n",
    "Authors: Erik Amezquita and Kathleen Storey\n",
    "Date: 2/9/2023\n",
    "\n",
    "This code uses T0 scores for Gaussian mixture models describing RNA-seq data for lung tumor and healthy subjects, and constructs a Mapper graph. It saves an image of the graph and matrices storing node and edge information, to be used in to compute the Heat Kernel Signature. \n",
    "\n",
    "## Input\n",
    "- A CSV file containing the T0 scores for each gene expression subject\n",
    "\n",
    "## Output\n",
    "- A .png image of the Mapper graph\n",
    "- CSV files \n"
   ]
  },
  {
   "cell_type": "code",
   "execution_count": 50,
   "metadata": {},
   "outputs": [],
   "source": [
    "# Load relevant packages\n",
    "import numpy as np\n",
    "import matplotlib.pyplot as plt\n",
    "import networkx as nx\n",
    "from sklearn.cluster import AgglomerativeClustering\n",
    "from sklearn.cluster import DBSCAN\n",
    "import scipy.spatial.distance as distance\n",
    "import pandas as pd\n",
    "import glob\n",
    "import os\n",
    "import math\n",
    "import importlib\n",
    "import matplotlib\n",
    "import matplotlib.pyplot as plt\n",
    "import colorsys\n",
    "import mapper_tumor_utils as tumor\n",
    "importlib.reload(tumor)\n",
    "import gudhi as gd\n",
    "import statmapper as stm\n",
    "from sklearn_tda import MapperComplex"
   ]
  },
  {
   "cell_type": "code",
   "execution_count": 8,
   "metadata": {},
   "outputs": [],
   "source": [
    "# Load data\n",
    "# specify the cancer type and data type (T0, fpkm, etc.):\n",
    "cancer_type = 'Lung'\n",
    "data_type = 'T0'\n",
    "\n",
    "# Enter path for the folder containing your data:\n",
    "src = '/Users/storeyk/Documents/Research/Lung_Tumor_TDA/'\n",
    "if data_type == 'T0':\n",
    "    t0_scores = pd.read_csv(src + 'data/' + cancer_type + '_T0.csv')\n",
    "    t0_scores = t0_scores.set_index('Hugo_Symbol')\n",
    "elif data_type == 'fpkm':\n",
    "    t0_scores = pd.read_csv(src + 'data/' + cancer_type + '_FPKM.csv')\n",
    "    t0_scores = t0_scores.set_index('Hugo_Symbol')\n",
    "    \n",
    "t0_scores.sort_index(axis=1, inplace=True)"
   ]
  },
  {
   "cell_type": "code",
   "execution_count": 9,
   "metadata": {},
   "outputs": [],
   "source": [
    "# Label tumor data vs. healthy data\n",
    "labels = []\n",
    "\n",
    "for person in t0_scores.columns:\n",
    "    labels.append(person.split('-')[0] )\n",
    "\n",
    "labels_int = np.array([1 if label == 'TCGA' else 0 for label in labels], dtype='uint8')\n",
    "\n",
    "tumor_t0 = t0_scores.iloc[:, labels_int.astype(bool)]\n",
    "health_t0 = t0_scores.iloc[:, ~labels_int.astype(bool)]\n",
    "health_mean = health_t0.apply(np.mean, axis=1)\n",
    "centered = t0_scores.sub(health_mean, axis='index')\n",
    "col_diff = tumor_t0.sub(health_mean, axis='index')"
   ]
  },
  {
   "cell_type": "code",
   "execution_count": 11,
   "metadata": {},
   "outputs": [],
   "source": [
    "# Compute the pairwise correlation between subjects\n",
    "corr_t0, vals_t0 = tumor.explore_correlation(t0_scores)"
   ]
  },
  {
   "cell_type": "code",
   "execution_count": 16,
   "metadata": {},
   "outputs": [],
   "source": [
    "# Create the Mapper graph\n",
    "\n",
    "data = np.array(t0_scores).T\n",
    "data = np.nan_to_num(data)\n",
    "\n",
    "# Choose filter function values\n",
    "# filter function type (default = mean correlation):\n",
    "val_ind = 1\n",
    "# clustering scale parameter (epsilon):\n",
    "eps = 600\n",
    "# number of bins (b):\n",
    "b = 80\n",
    "# percent overlap between bins (p):\n",
    "p = 0.5\n",
    "\n",
    "if val_ind==0:\n",
    "    filt_type=\"mincorr\"\n",
    "elif val_ind==1:\n",
    "    filt_type=\"meancorr\"\n",
    "elif val_ind==2:\n",
    "    filt_type=\"maxcorr\"\n",
    "elif val_ind==3:\n",
    "    filt_type=\"diffcorr\" \n",
    "    \n",
    "\n",
    "params = {\"filters\": vals_t0[val_ind][:,np.newaxis], \"filter_bnds\": np.array([[np.nan,np.nan]]), \n",
    "          \"colors\": labels_int[:,np.newaxis], \n",
    "          \"resolutions\": np.array([b]), \"gains\": np.array([p]), \"inp\": \"point cloud\", \n",
    "          \"clustering\": AgglomerativeClustering(n_clusters=None,linkage='single',distance_threshold=eps),\n",
    "          \"mask\": 2}\n",
    "\n",
    "M = MapperComplex(**params).fit(data)"
   ]
  },
  {
   "cell_type": "code",
   "execution_count": 17,
   "metadata": {},
   "outputs": [
    {
     "name": "stdout",
     "output_type": "stream",
     "text": [
      "Number of nodes:  56\n",
      "Total distinct subjects 807\n"
     ]
    }
   ],
   "source": [
    "# Node information\n",
    "G = stm.mapper2networkx(M)\n",
    "subjects = 0\n",
    "sett = set()\n",
    "\n",
    "for node in G.nodes:\n",
    "    subjects += M.node_info_[node]['size']\n",
    "    sett = sett | set(M.node_info_[node]['indices'])\n",
    "\n",
    "num_nodes=len(G.nodes)\n",
    "print('Number of nodes: ', num_nodes)\n",
    "print('Total distinct subjects', len(sett))"
   ]
  },
  {
   "cell_type": "code",
   "execution_count": 18,
   "metadata": {},
   "outputs": [],
   "source": [
    "# Node intersection information\n",
    "intersections = []\n",
    "\n",
    "for edge in G.edges():\n",
    "    subj0 = set(M.node_info_[edge[0]]['indices'])\n",
    "    subj1 = set(M.node_info_[edge[1]]['indices'])\n",
    "    intersection = subj0 & subj1\n",
    "    intersections.append(len(intersection))\n",
    "intersections = np.array(intersections)  "
   ]
  },
  {
   "cell_type": "code",
   "execution_count": 20,
   "metadata": {},
   "outputs": [],
   "source": [
    "# Save a matrix showing which subjects are in each node (subj vs node index)\n",
    "\n",
    "subj_node_mat = np.zeros((t0_scores.shape[1], max(G.nodes)+1))\n",
    "\n",
    "for node in G.nodes:\n",
    "    node_list = M.node_info_[node]['indices']\n",
    "    for subj in node_list:\n",
    "        subj_node_mat[subj,node]=1\n",
    "    \n",
    "    \n",
    "# save matrix to a .csv file\n",
    "np.savetxt(src + 'data_viz/' + cancer_type + '/Mapper/' + cancer_type + '_' + data_type +'_' + filt_type + '_eps{}_r{}_g{}_subj_node_mat.csv'\n",
    "               .format(eps,params['resolutions'][0], int(100*params['gains'][0])), subj_node_mat, fmt='%f', delimiter=\",\") "
   ]
  },
  {
   "cell_type": "code",
   "execution_count": 93,
   "metadata": {},
   "outputs": [],
   "source": [
    "# Create matrices to store node and edge information\n",
    "# diagonal matrix with the proportion of malignant cells in each node:\n",
    "prop_mat = np.zeros((num_nodes, num_nodes))\n",
    "# matrix with number of overlapping cells between nodes (diag=number of cells in node):\n",
    "edge_mat = np.zeros((num_nodes, num_nodes))\n",
    "\n",
    "node_ind=0\n",
    "for node in G.nodes:\n",
    "    M.node_info_[node]['index']=node_ind\n",
    "    #store prop of malignant cells in diagonal entry\n",
    "    prop_mat[node_ind,node_ind] = M.node_info_[node][\"colors\"][0]\n",
    "    edge_mat[node_ind,node_ind] = M.node_info_[node]['size']    \n",
    "    node_ind +=1\n",
    "    \n",
    "for edge in G.edges():\n",
    "    subj0 = set(M.node_info_[edge[0]]['indices'])\n",
    "    subj1 = set(M.node_info_[edge[1]]['indices'])\n",
    "    intersection = subj0 & subj1\n",
    "    edge_mat[M.node_info_[edge[0]]['index'], M.node_info_[edge[1]]['index']] = len(intersection)\n",
    "    edge_mat[M.node_info_[edge[1]]['index'], M.node_info_[edge[0]]['index']] = len(intersection)\n",
    "    \n",
    "# save the matrices to .csv files\n",
    "\n",
    "np.savetxt(src + 'data_viz/' + cancer_type + '/Mapper/' + cancer_type + '_' + data_type +'_' + filt_type + '_eps{}_r{}_g{}_prop_mat.csv'\n",
    "           .format(eps,params['resolutions'][0], int(100*params['gains'][0])), prop_mat, fmt='%f', delimiter=\",\") \n",
    "np.savetxt(src + 'data_viz/' + cancer_type + '/Mapper/' + cancer_type + '_' + data_type +'_' + filt_type + '_eps{}_r{}_g{}_edge_mat.csv'\n",
    "           .format(eps,params['resolutions'][0], int(100*params['gains'][0])), edge_mat, fmt='%d', delimiter=\",\") \n",
    "\n",
    "\n"
   ]
  },
  {
   "cell_type": "code",
   "execution_count": 49,
   "metadata": {},
   "outputs": [
    {
     "data": {
      "image/png": "[encoded data removed]",
      "text/plain": [
       "<Figure size 432x288 with 2 Axes>"
      ]
     },
     "metadata": {},
     "output_type": "display_data"
    }
   ],
   "source": [
    "# Draw and save the Mapper graph \n",
    "graph=nx.draw(G, pos=nx.kamada_kawai_layout(G), \n",
    "        node_color=[M.node_info_[node][\"colors\"][0] for node in G.nodes()],\n",
    "        node_size=[0.25*M.node_info_[node]['size'] for node in G.nodes()],\n",
    "        linewidths=1,\n",
    "        width = 0.01*intersections,\n",
    "        node_shape='o',\n",
    "        font_size=12)\n",
    "vmin = min(M.node_info_[node][\"colors\"][0] for node in G.nodes())\n",
    "vmax = max(M.node_info_[node][\"colors\"][0] for node in G.nodes())\n",
    "cmap = [M.node_info_[node][\"colors\"][0] for node in G.nodes()]\n",
    "sm = plt.cm.ScalarMappable(norm=plt.Normalize(vmin = vmin, vmax=vmax))\n",
    "sm._A = []\n",
    "plt.colorbar(sm)\n",
    "\n",
    "\n",
    "plt.title('bins = {} ; percent overlap = {}\\n{}\\n\\nNumber of nodes: {}\\nTotal distinct subjects: {}'\n",
    "          .format(params['resolutions'][0], params['gains'][0], params['clustering'],len(G.nodes), len(sett)))\n",
    "\n",
    "\n",
    "plt.savefig(src + 'data_viz/' + cancer_type + '/Mapper/' + cancer_type + '_' + data_type +'_' + filt_type + '_eps{}_b{}_p{}.png'\n",
    "           .format(eps,params['resolutions'][0], int(100*params['gains'][0])), \n",
    "           dpi=150, format='png', bbox_inches='tight')\n"
   ]
  }
 ],
 "metadata": {
  "kernelspec": {
   "display_name": "Python 3 (ipykernel)",
   "language": "python",
   "name": "python3"
  },
  "language_info": {
   "codemirror_mode": {
    "name": "ipython",
    "version": 3
   },
   "file_extension": ".py",
   "mimetype": "text/x-python",
   "name": "python",
   "nbconvert_exporter": "python",
   "pygments_lexer": "ipython3",
   "version": "3.9.12"
  }
 },
 "nbformat": 4,
 "nbformat_minor": 4
}
